{
 "cells": [
  {
   "cell_type": "markdown",
   "id": "74f99396",
   "metadata": {},
   "source": [
    "# Assignment\n"
   ]
  },
  {
   "cell_type": "markdown",
   "id": "6f84520c",
   "metadata": {},
   "source": [
    "# Python basic exercise"
   ]
  },
  {
   "cell_type": "code",
   "execution_count": 28,
   "id": "8f6a82f9",
   "metadata": {},
   "outputs": [
    {
     "name": "stdout",
     "output_type": "stream",
     "text": [
      "Enter First no.:100\n",
      "Enter Second no.100\n"
     ]
    },
    {
     "data": {
      "text/plain": [
       "200"
      ]
     },
     "execution_count": 28,
     "metadata": {},
     "output_type": "execute_result"
    }
   ],
   "source": [
    "# for printing product and sum (when product>1000)\n",
    "\n",
    "def fun():\n",
    "    number1= int(input(\"Enter First no.:\"))\n",
    "    number2 = int(input(\"Enter Second no.\"))\n",
    "\n",
    "    if number1 * number2 > 1000:\n",
    "        return number1 + number2\n",
    "    else:\n",
    "        return number1 * number2\n",
    "        \n",
    "fun()\n",
    "    "
   ]
  },
  {
   "cell_type": "code",
   "execution_count": 5,
   "id": "9f30e376",
   "metadata": {},
   "outputs": [
    {
     "name": "stdout",
     "output_type": "stream",
     "text": [
      "Current Number is 0 previous number is 0 & the sum is 0 \n",
      "Current Number is 1 previous number is 0 & the sum is 1 \n",
      "Current Number is 2 previous number is 1 & the sum is 3 \n",
      "Current Number is 3 previous number is 2 & the sum is 5 \n",
      "Current Number is 4 previous number is 3 & the sum is 7 \n",
      "Current Number is 5 previous number is 4 & the sum is 9 \n",
      "Current Number is 6 previous number is 5 & the sum is 11 \n",
      "Current Number is 7 previous number is 6 & the sum is 13 \n",
      "Current Number is 8 previous number is 7 & the sum is 15 \n",
      "Current Number is 9 previous number is 8 & the sum is 17 \n"
     ]
    }
   ],
   "source": [
    "# print current and previous number and sum\n",
    "prev = 0\n",
    "for i in range(10):\n",
    "    sum = prev + i\n",
    "    print(\"Current Number is {0} previous number is {1} & the sum is {2} \".format(i, prev, sum))\n",
    "    prev = i"
   ]
  },
  {
   "cell_type": "code",
   "execution_count": 11,
   "id": "2bf48c3e",
   "metadata": {},
   "outputs": [
    {
     "name": "stdout",
     "output_type": "stream",
     "text": [
      "Enter the string: pynative\n",
      "p\n",
      "n\n",
      "t\n",
      "v\n"
     ]
    }
   ],
   "source": [
    "string = input(\"Enter the string: \")\n",
    "# n = len(string)\n",
    "# print(n)\n",
    "i = 0\n",
    "while i < len(string):\n",
    "    print(string[i])\n",
    "    i = i+2\n",
    "    "
   ]
  },
  {
   "cell_type": "code",
   "execution_count": 12,
   "id": "32a14a1d",
   "metadata": {},
   "outputs": [
    {
     "name": "stdout",
     "output_type": "stream",
     "text": [
      "Enter the string:pynative\n",
      "Enter the number:4\n",
      "tive\n"
     ]
    }
   ],
   "source": [
    "string = input(\"Enter the string:\")\n",
    "n = int(input(\"Enter the number:\"))\n",
    "upd_string = string[4:]\n",
    "\n",
    "print(upd_string)\n"
   ]
  },
  {
   "cell_type": "code",
   "execution_count": 36,
   "id": "b143d186",
   "metadata": {},
   "outputs": [
    {
     "name": "stdout",
     "output_type": "stream",
     "text": [
      "Enter number of elements:5\n",
      "10\n",
      "20\n",
      "30\n",
      "40\n",
      "10\n"
     ]
    },
    {
     "data": {
      "text/plain": [
       "True"
      ]
     },
     "execution_count": 36,
     "metadata": {},
     "output_type": "execute_result"
    }
   ],
   "source": [
    "n = int(input(\"Enter number of elements:\"))\n",
    "list1 = []\n",
    "for i in range(0,n):\n",
    "    temp = int(input())\n",
    "    \n",
    "    list1.append(temp)    \n",
    "def fun():\n",
    "    n = len(list1)\n",
    "    if list1[0] == list1[n-1]:\n",
    "        return True\n",
    "    else:\n",
    "        return False\n",
    "fun()"
   ]
  },
  {
   "cell_type": "code",
   "execution_count": 44,
   "id": "2399cdf5",
   "metadata": {},
   "outputs": [
    {
     "name": "stdout",
     "output_type": "stream",
     "text": [
      "10\n",
      "20\n",
      "30\n"
     ]
    }
   ],
   "source": [
    "list2 = [10,20,30,33,11]\n",
    "def fun():\n",
    "    for i in range(len(list2)):\n",
    "        if list2[i]%5 == 0:\n",
    "            print(list2[i])\n",
    "        \n",
    "fun()"
   ]
  },
  {
   "cell_type": "code",
   "execution_count": 46,
   "id": "db4c084d",
   "metadata": {},
   "outputs": [
    {
     "name": "stdout",
     "output_type": "stream",
     "text": [
      "2\n"
     ]
    }
   ],
   "source": [
    "string = \"Emma is good developer. Emma is a writer\"\n",
    "print(string.count(\"Emma\"))"
   ]
  },
  {
   "cell_type": "code",
   "execution_count": 62,
   "id": "1a41138d",
   "metadata": {},
   "outputs": [
    {
     "name": "stdout",
     "output_type": "stream",
     "text": [
      "Enter the number:1221\n",
      "1221\n",
      "1221\n",
      "The original and reverse number is same\n"
     ]
    }
   ],
   "source": [
    "ori_num = input(\"Enter the number:\")\n",
    "rev_num = ori_num[::-1]\n",
    "print(ori_num)\n",
    "print(rev_num)\n",
    "\n",
    "if ori_num == rev_num:\n",
    "    print(\"The original and reverse number is same\")\n",
    "else:\n",
    "    print(\"The original and reverse are not same\")"
   ]
  },
  {
   "cell_type": "markdown",
   "id": "ef232055",
   "metadata": {},
   "source": [
    "# Python string question\n"
   ]
  },
  {
   "cell_type": "code",
   "execution_count": 66,
   "id": "76651182",
   "metadata": {},
   "outputs": [
    {
     "name": "stdout",
     "output_type": "stream",
     "text": [
      "ell\n"
     ]
    }
   ],
   "source": [
    "string = 'Johnhell0Peta'\n",
    "def midThree():\n",
    "    midInd = int(len(string)/2)\n",
    "    middThree = string[midInd-1:midInd+2]\n",
    "    print(middThree)\n",
    "\n",
    "midThree()"
   ]
  },
  {
   "cell_type": "code",
   "execution_count": 4,
   "id": "a64f7d11",
   "metadata": {},
   "outputs": [
    {
     "name": "stdout",
     "output_type": "stream",
     "text": [
      "AuKellylt\n"
     ]
    }
   ],
   "source": [
    "s1 = \"Ault\"\n",
    "s2 = \"Kelly\"\n",
    "\n",
    "mid = int(len(s1)/2)\n",
    "appString = s1[:mid] + s2 +s1[mid:]\n",
    "print(appString)\n"
   ]
  },
  {
   "cell_type": "code",
   "execution_count": null,
   "id": "e2138999",
   "metadata": {},
   "outputs": [],
   "source": []
  },
  {
   "cell_type": "code",
   "execution_count": null,
   "id": "bc499e59",
   "metadata": {},
   "outputs": [],
   "source": []
  },
  {
   "cell_type": "code",
   "execution_count": null,
   "id": "d8bcd299",
   "metadata": {},
   "outputs": [],
   "source": []
  },
  {
   "cell_type": "code",
   "execution_count": null,
   "id": "8e873865",
   "metadata": {},
   "outputs": [],
   "source": []
  },
  {
   "cell_type": "code",
   "execution_count": null,
   "id": "9380ae92",
   "metadata": {},
   "outputs": [],
   "source": []
  },
  {
   "cell_type": "code",
   "execution_count": null,
   "id": "d6c5db01",
   "metadata": {},
   "outputs": [],
   "source": []
  },
  {
   "cell_type": "code",
   "execution_count": null,
   "id": "02e9df06",
   "metadata": {},
   "outputs": [],
   "source": []
  },
  {
   "cell_type": "code",
   "execution_count": null,
   "id": "027c9cf4",
   "metadata": {},
   "outputs": [],
   "source": []
  },
  {
   "cell_type": "code",
   "execution_count": null,
   "id": "e5fb66d6",
   "metadata": {},
   "outputs": [],
   "source": []
  },
  {
   "cell_type": "code",
   "execution_count": 19,
   "id": "3f15a85c",
   "metadata": {},
   "outputs": [],
   "source": [
    "# # name = \"shivani\"\n",
    "# # print(\"Hello %s\" %name)\n",
    "\n",
    "# def func():\n",
    "#     numb1 = int(input(\"Enter the 1st no.:\"))\n",
    "#     numb2 = int(input(\"Enter the 2nd no.:\"))\n",
    "    \n",
    "#     if numb1 * numb2 > 1000:\n",
    "#         sol2 = numb1 + numb2        \n",
    "#     else:\n",
    "#         sol1 = numb1 * numb2\n"
   ]
  },
  {
   "cell_type": "code",
   "execution_count": 18,
   "id": "52bd0187",
   "metadata": {},
   "outputs": [
    {
     "data": {
      "text/plain": [
       "['ArithmeticError',\n",
       " 'AssertionError',\n",
       " 'AttributeError',\n",
       " 'BaseException',\n",
       " 'BlockingIOError',\n",
       " 'BrokenPipeError',\n",
       " 'BufferError',\n",
       " 'BytesWarning',\n",
       " 'ChildProcessError',\n",
       " 'ConnectionAbortedError',\n",
       " 'ConnectionError',\n",
       " 'ConnectionRefusedError',\n",
       " 'ConnectionResetError',\n",
       " 'DeprecationWarning',\n",
       " 'EOFError',\n",
       " 'Ellipsis',\n",
       " 'EnvironmentError',\n",
       " 'Exception',\n",
       " 'False',\n",
       " 'FileExistsError',\n",
       " 'FileNotFoundError',\n",
       " 'FloatingPointError',\n",
       " 'FutureWarning',\n",
       " 'GeneratorExit',\n",
       " 'IOError',\n",
       " 'ImportError',\n",
       " 'ImportWarning',\n",
       " 'IndentationError',\n",
       " 'IndexError',\n",
       " 'InterruptedError',\n",
       " 'IsADirectoryError',\n",
       " 'KeyError',\n",
       " 'KeyboardInterrupt',\n",
       " 'LookupError',\n",
       " 'MemoryError',\n",
       " 'ModuleNotFoundError',\n",
       " 'NameError',\n",
       " 'None',\n",
       " 'NotADirectoryError',\n",
       " 'NotImplemented',\n",
       " 'NotImplementedError',\n",
       " 'OSError',\n",
       " 'OverflowError',\n",
       " 'PendingDeprecationWarning',\n",
       " 'PermissionError',\n",
       " 'ProcessLookupError',\n",
       " 'RecursionError',\n",
       " 'ReferenceError',\n",
       " 'ResourceWarning',\n",
       " 'RuntimeError',\n",
       " 'RuntimeWarning',\n",
       " 'StopAsyncIteration',\n",
       " 'StopIteration',\n",
       " 'SyntaxError',\n",
       " 'SyntaxWarning',\n",
       " 'SystemError',\n",
       " 'SystemExit',\n",
       " 'TabError',\n",
       " 'TimeoutError',\n",
       " 'True',\n",
       " 'TypeError',\n",
       " 'UnboundLocalError',\n",
       " 'UnicodeDecodeError',\n",
       " 'UnicodeEncodeError',\n",
       " 'UnicodeError',\n",
       " 'UnicodeTranslateError',\n",
       " 'UnicodeWarning',\n",
       " 'UserWarning',\n",
       " 'ValueError',\n",
       " 'Warning',\n",
       " 'WindowsError',\n",
       " 'ZeroDivisionError',\n",
       " '__IPYTHON__',\n",
       " '__build_class__',\n",
       " '__debug__',\n",
       " '__doc__',\n",
       " '__import__',\n",
       " '__loader__',\n",
       " '__name__',\n",
       " '__package__',\n",
       " '__spec__',\n",
       " 'abs',\n",
       " 'all',\n",
       " 'any',\n",
       " 'ascii',\n",
       " 'bin',\n",
       " 'bool',\n",
       " 'breakpoint',\n",
       " 'bytearray',\n",
       " 'bytes',\n",
       " 'callable',\n",
       " 'chr',\n",
       " 'classmethod',\n",
       " 'compile',\n",
       " 'complex',\n",
       " 'copyright',\n",
       " 'credits',\n",
       " 'delattr',\n",
       " 'dict',\n",
       " 'dir',\n",
       " 'display',\n",
       " 'divmod',\n",
       " 'enumerate',\n",
       " 'eval',\n",
       " 'exec',\n",
       " 'filter',\n",
       " 'float',\n",
       " 'format',\n",
       " 'frozenset',\n",
       " 'get_ipython',\n",
       " 'getattr',\n",
       " 'globals',\n",
       " 'hasattr',\n",
       " 'hash',\n",
       " 'help',\n",
       " 'hex',\n",
       " 'id',\n",
       " 'input',\n",
       " 'int',\n",
       " 'isinstance',\n",
       " 'issubclass',\n",
       " 'iter',\n",
       " 'len',\n",
       " 'license',\n",
       " 'list',\n",
       " 'locals',\n",
       " 'map',\n",
       " 'max',\n",
       " 'memoryview',\n",
       " 'min',\n",
       " 'next',\n",
       " 'object',\n",
       " 'oct',\n",
       " 'open',\n",
       " 'ord',\n",
       " 'pow',\n",
       " 'print',\n",
       " 'property',\n",
       " 'range',\n",
       " 'repr',\n",
       " 'reversed',\n",
       " 'round',\n",
       " 'set',\n",
       " 'setattr',\n",
       " 'slice',\n",
       " 'sorted',\n",
       " 'staticmethod',\n",
       " 'str',\n",
       " 'sum',\n",
       " 'super',\n",
       " 'tuple',\n",
       " 'type',\n",
       " 'vars',\n",
       " 'zip']"
      ]
     },
     "execution_count": 18,
     "metadata": {},
     "output_type": "execute_result"
    }
   ],
   "source": [
    "dir (__builtins__)"
   ]
  },
  {
   "cell_type": "code",
   "execution_count": null,
   "id": "8d186da6",
   "metadata": {},
   "outputs": [],
   "source": []
  }
 ],
 "metadata": {
  "kernelspec": {
   "display_name": "Python 3",
   "language": "python",
   "name": "python3"
  },
  "language_info": {
   "codemirror_mode": {
    "name": "ipython",
    "version": 3
   },
   "file_extension": ".py",
   "mimetype": "text/x-python",
   "name": "python",
   "nbconvert_exporter": "python",
   "pygments_lexer": "ipython3",
   "version": "3.8.8"
  }
 },
 "nbformat": 4,
 "nbformat_minor": 5
}
